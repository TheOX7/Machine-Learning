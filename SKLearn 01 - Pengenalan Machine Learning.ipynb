{
  "cells": [
    {
      "cell_type": "markdown",
      "id": "cef6f101",
      "metadata": {
        "id": "cef6f101"
      },
      "source": [
        "# Pengenalan Machine Learning"
      ]
    },
    {
      "cell_type": "markdown",
      "id": "e8b9c2ea",
      "metadata": {
        "id": "e8b9c2ea"
      },
      "source": [
        "## Apa itu Machine Learning ? "
      ]
    },
    {
      "cell_type": "markdown",
      "id": "21147c53",
      "metadata": {
        "id": "21147c53"
      },
      "source": [
        "<li>\"Machine Learning is a study that gives computers the ability to learn without being explicitly programmed\"- <b>Arthur Samuel</b>"
      ]
    },
    {
      "cell_type": "markdown",
      "id": "0b0a208a",
      "metadata": {
        "id": "0b0a208a"
      },
      "source": [
        "<li>\"Machine Learning is a program can be said to learn from experience E with respect to some class of task T and performance measure P,if its performance at task in T, as measured by P,improves with experience E.\" - <b> Tom Mitchell </b>"
      ]
    },
    {
      "cell_type": "markdown",
      "id": "37526f63",
      "metadata": {
        "id": "37526f63"
      },
      "source": [
        "<li>Machine Learning adalah bidang ilmu yang memampukan suatu program komputer untuk belajar dari sekumpulan data."
      ]
    },
    {
      "cell_type": "markdown",
      "id": "8880eba0",
      "metadata": {
        "id": "8880eba0"
      },
      "source": [
        "## Learning Problem"
      ]
    },
    {
      "cell_type": "markdown",
      "id": "1c52ebf1",
      "metadata": {
        "id": "1c52ebf1"
      },
      "source": [
        "<li>Learning problem dalam konteks Machine Learning melibatkan suatu dataset (terdiri dari sejumlah n sample data) untuk melakukan prediksi terhadap properties yang tidak diketahui pada dataset lain yang sejenis."
      ]
    },
    {
      "cell_type": "markdown",
      "id": "dd3b3e5f",
      "metadata": {
        "id": "dd3b3e5f"
      },
      "source": [
        "<li>Secara umum learning problem dapat dibagi menjadi dua, yaitu <b> supervised learning </b> dan <b> unsupervised learning. </b>"
      ]
    },
    {
      "cell_type": "markdown",
      "id": "365f6da3",
      "metadata": {
        "id": "365f6da3"
      },
      "source": [
        "<li>Pada <b> supervised learning problem </b>, program memprediksi suatu nilai output untuk suatu input berdasarkan proses learning dengan memanfaatkan sekumpulan data yang terbagi dalam dua label, yaitu input dan output. Di sini program melakukan learning dari sekumpulan contoh kasus (examples) yang menyertakan \"jawaban benar\"."
      ]
    },
    {
      "cell_type": "markdown",
      "id": "dd588710",
      "metadata": {
        "id": "dd588710"
      },
      "source": [
        "<li>Pada <b> unsupervised learning problem </b>, program tidak melakukan learning dari labeled data; melainkan mencoba menemukan pola (patterns) pada data. Di sini program melakukan learning dari sekumpulan contoh kasus (examples) tanpa disertai \"jawaban benar\"."
      ]
    },
    {
      "cell_type": "markdown",
      "id": "1bae063e",
      "metadata": {
        "id": "1bae063e"
      },
      "source": [
        "## Terminologi Dasar pada Supervised Learning"
      ]
    },
    {
      "cell_type": "markdown",
      "id": "c83c3661",
      "metadata": {
        "id": "c83c3661"
      },
      "source": [
        "<li><b>output: </b>label,response variable,dependent variable,regressand,criterion variable,measured variable,responding variable,explained variable,outcome variable,experimental variable,dan output variable"
      ]
    },
    {
      "cell_type": "markdown",
      "id": "a17b0159",
      "metadata": {
        "id": "a17b0159"
      },
      "source": [
        "<li><b>input: </b>features,explanatory variable,predictors,regressors,controlled variables, and exposure variables"
      ]
    },
    {
      "cell_type": "markdown",
      "id": "b7a42855",
      "metadata": {
        "id": "b7a42855"
      },
      "source": [
        "<li><b>training set: </b>Sekumpulan \"contoh\" yang digunakan untuk proses learning (traning) pada supervised learning."
      ]
    },
    {
      "cell_type": "markdown",
      "id": "21e435e8",
      "metadata": {
        "id": "21e435e8"
      },
      "source": [
        "<li><b>test set: </b>Sekumpulan \"contoh\" yang diguanakan untuk mengukur performa pada supervised learning."
      ]
    },
    {
      "cell_type": "markdown",
      "id": "583a1351",
      "metadata": {
        "id": "583a1351"
      },
      "source": [
        "<li>Pada supervised learning, response variable bisa dianalogikan sebagai kunci jawaban dan explanatory variables bisa dianalogikan sebagai pertanyaannya"
      ]
    },
    {
      "cell_type": "markdown",
      "id": "90436f82",
      "metadata": {
        "id": "90436f82"
      },
      "source": [
        "## Supervised Machine Learning Tasks"
      ]
    },
    {
      "cell_type": "markdown",
      "id": "152aa5be",
      "metadata": {
        "id": "152aa5be"
      },
      "source": [
        "<li>Secara umum terdapat dua jenis Supervised Machine Learning Tasks, yaitu <b> Classification</b> dan <b>Regression </b>"
      ]
    },
    {
      "cell_type": "markdown",
      "id": "540718ef",
      "metadata": {
        "id": "540718ef"
      },
      "source": [
        "<li><b> Classification tasks</b> menekankan pada proses learning (traning) untuk melakukan prediksi nilai discrete (i.e.,category,class,label) dari sejumlah features."
      ]
    },
    {
      "cell_type": "markdown",
      "id": "add3dfc5",
      "metadata": {
        "id": "add3dfc5"
      },
      "source": [
        "<li><b> Regression tasks</b> menekankan pada proses learning(traning) untuk melakukan prediksi nilai continuos (floating point) dari sejumlah features."
      ]
    },
    {
      "cell_type": "markdown",
      "id": "fd34bf2c",
      "metadata": {
        "id": "fd34bf2c"
      },
      "source": [
        "## Unsupervised Machine Learning Tasks"
      ]
    },
    {
      "cell_type": "markdown",
      "id": "18e9cf73",
      "metadata": {
        "id": "18e9cf73"
      },
      "source": [
        "<li> Terdapat beberapa Unspervised Machile Learning Tasks dan kita akan berfokus pada dua tasks, yaitu <b> Clustering</b> dan <b> Dimensionality Reduction</b>"
      ]
    },
    {
      "cell_type": "markdown",
      "id": "42eaf3c6",
      "metadata": {
        "id": "42eaf3c6"
      },
      "source": [
        "<li><b> Clustering tasks</b> menekankan pada proses explorasi data untuk menemukan kelompok (group pada data berdasarkan kemiripan (kedekatan) karakteristik"
      ]
    },
    {
      "cell_type": "markdown",
      "id": "ce99663c",
      "metadata": {
        "id": "ce99663c"
      },
      "source": [
        "<li><b> Dimensionality Reduction tasks</b> menekankan pada proses explorasi data untuk menemukan sejumlah features yang paling berdampak terhadap response variable"
      ]
    }
  ],
  "metadata": {
    "kernelspec": {
      "display_name": "Python 3 (ipykernel)",
      "language": "python",
      "name": "python3"
    },
    "language_info": {
      "codemirror_mode": {
        "name": "ipython",
        "version": 3
      },
      "file_extension": ".py",
      "mimetype": "text/x-python",
      "name": "python",
      "nbconvert_exporter": "python",
      "pygments_lexer": "ipython3",
      "version": "3.8.8"
    },
    "colab": {
      "provenance": []
    }
  },
  "nbformat": 4,
  "nbformat_minor": 5
}