{
  "cells": [
    {
      "cell_type": "markdown",
      "id": "af886cc8",
      "metadata": {
        "id": "af886cc8"
      },
      "source": [
        "# 03 Machine Learning Workflow dengan Scikit Learn"
      ]
    },
    {
      "cell_type": "markdown",
      "id": "d8475d95",
      "metadata": {
        "id": "d8475d95"
      },
      "source": [
        "## Persiapan Dataset"
      ]
    },
    {
      "cell_type": "markdown",
      "id": "4db0065c",
      "metadata": {
        "id": "4db0065c"
      },
      "source": [
        "### Load Sample Dataset: Iris Dataset"
      ]
    },
    {
      "cell_type": "code",
      "execution_count": 20,
      "id": "fc07e37c",
      "metadata": {
        "id": "fc07e37c"
      },
      "outputs": [],
      "source": [
        "from sklearn.datasets import load_iris\n",
        "\n",
        "iris = load_iris()\n",
        "\n",
        "x = iris.data\n",
        "y = iris.target"
      ]
    },
    {
      "cell_type": "markdown",
      "id": "3bc22787",
      "metadata": {
        "id": "3bc22787"
      },
      "source": [
        "### Splitting Dataset: Training & Testing Set"
      ]
    },
    {
      "cell_type": "code",
      "execution_count": 21,
      "id": "23409ced",
      "metadata": {
        "id": "23409ced"
      },
      "outputs": [],
      "source": [
        "from sklearn.model_selection import train_test_split\n",
        "\n",
        "x_train, x_test, y_train, y_test = train_test_split(x,\n",
        "                                                    y,\n",
        "                                                    test_size=0.4,\n",
        "                                                    random_state=1)"
      ]
    },
    {
      "cell_type": "markdown",
      "id": "fdb51a15",
      "metadata": {
        "id": "fdb51a15"
      },
      "source": [
        "## Training Model"
      ]
    },
    {
      "cell_type": "markdown",
      "id": "5e8cbebb",
      "metadata": {
        "id": "5e8cbebb"
      },
      "source": [
        "<li>Pada Scikit Learn, model machine learning dibentuk dari class yang dikenal dengan istilah estimator\n",
        "<li>Setiap estimator akan mengimplementasikan dua method utama, yaitu fit() dan predict()\n",
        "<li>Method fit() digunakan untuk melakukan training model\n",
        "<li>method predict() digunakan untuk melakukan estimasi/prediksi dengan memanfaatkan trained model"
      ]
    },
    {
      "cell_type": "code",
      "execution_count": 22,
      "id": "fd2be419",
      "metadata": {
        "colab": {
          "base_uri": "https://localhost:8080/",
          "height": 75
        },
        "id": "fd2be419",
        "outputId": "57250b17-2c3b-4766-bc41-a07919d675b3"
      },
      "outputs": [
        {
          "output_type": "execute_result",
          "data": {
            "text/plain": [
              "KNeighborsClassifier(n_neighbors=3)"
            ],
            "text/html": [
              "<style>#sk-container-id-2 {color: black;background-color: white;}#sk-container-id-2 pre{padding: 0;}#sk-container-id-2 div.sk-toggleable {background-color: white;}#sk-container-id-2 label.sk-toggleable__label {cursor: pointer;display: block;width: 100%;margin-bottom: 0;padding: 0.3em;box-sizing: border-box;text-align: center;}#sk-container-id-2 label.sk-toggleable__label-arrow:before {content: \"▸\";float: left;margin-right: 0.25em;color: #696969;}#sk-container-id-2 label.sk-toggleable__label-arrow:hover:before {color: black;}#sk-container-id-2 div.sk-estimator:hover label.sk-toggleable__label-arrow:before {color: black;}#sk-container-id-2 div.sk-toggleable__content {max-height: 0;max-width: 0;overflow: hidden;text-align: left;background-color: #f0f8ff;}#sk-container-id-2 div.sk-toggleable__content pre {margin: 0.2em;color: black;border-radius: 0.25em;background-color: #f0f8ff;}#sk-container-id-2 input.sk-toggleable__control:checked~div.sk-toggleable__content {max-height: 200px;max-width: 100%;overflow: auto;}#sk-container-id-2 input.sk-toggleable__control:checked~label.sk-toggleable__label-arrow:before {content: \"▾\";}#sk-container-id-2 div.sk-estimator input.sk-toggleable__control:checked~label.sk-toggleable__label {background-color: #d4ebff;}#sk-container-id-2 div.sk-label input.sk-toggleable__control:checked~label.sk-toggleable__label {background-color: #d4ebff;}#sk-container-id-2 input.sk-hidden--visually {border: 0;clip: rect(1px 1px 1px 1px);clip: rect(1px, 1px, 1px, 1px);height: 1px;margin: -1px;overflow: hidden;padding: 0;position: absolute;width: 1px;}#sk-container-id-2 div.sk-estimator {font-family: monospace;background-color: #f0f8ff;border: 1px dotted black;border-radius: 0.25em;box-sizing: border-box;margin-bottom: 0.5em;}#sk-container-id-2 div.sk-estimator:hover {background-color: #d4ebff;}#sk-container-id-2 div.sk-parallel-item::after {content: \"\";width: 100%;border-bottom: 1px solid gray;flex-grow: 1;}#sk-container-id-2 div.sk-label:hover label.sk-toggleable__label {background-color: #d4ebff;}#sk-container-id-2 div.sk-serial::before {content: \"\";position: absolute;border-left: 1px solid gray;box-sizing: border-box;top: 0;bottom: 0;left: 50%;z-index: 0;}#sk-container-id-2 div.sk-serial {display: flex;flex-direction: column;align-items: center;background-color: white;padding-right: 0.2em;padding-left: 0.2em;position: relative;}#sk-container-id-2 div.sk-item {position: relative;z-index: 1;}#sk-container-id-2 div.sk-parallel {display: flex;align-items: stretch;justify-content: center;background-color: white;position: relative;}#sk-container-id-2 div.sk-item::before, #sk-container-id-2 div.sk-parallel-item::before {content: \"\";position: absolute;border-left: 1px solid gray;box-sizing: border-box;top: 0;bottom: 0;left: 50%;z-index: -1;}#sk-container-id-2 div.sk-parallel-item {display: flex;flex-direction: column;z-index: 1;position: relative;background-color: white;}#sk-container-id-2 div.sk-parallel-item:first-child::after {align-self: flex-end;width: 50%;}#sk-container-id-2 div.sk-parallel-item:last-child::after {align-self: flex-start;width: 50%;}#sk-container-id-2 div.sk-parallel-item:only-child::after {width: 0;}#sk-container-id-2 div.sk-dashed-wrapped {border: 1px dashed gray;margin: 0 0.4em 0.5em 0.4em;box-sizing: border-box;padding-bottom: 0.4em;background-color: white;}#sk-container-id-2 div.sk-label label {font-family: monospace;font-weight: bold;display: inline-block;line-height: 1.2em;}#sk-container-id-2 div.sk-label-container {text-align: center;}#sk-container-id-2 div.sk-container {/* jupyter's `normalize.less` sets `[hidden] { display: none; }` but bootstrap.min.css set `[hidden] { display: none !important; }` so we also need the `!important` here to be able to override the default hidden behavior on the sphinx rendered scikit-learn.org. See: https://github.com/scikit-learn/scikit-learn/issues/21755 */display: inline-block !important;position: relative;}#sk-container-id-2 div.sk-text-repr-fallback {display: none;}</style><div id=\"sk-container-id-2\" class=\"sk-top-container\"><div class=\"sk-text-repr-fallback\"><pre>KNeighborsClassifier(n_neighbors=3)</pre><b>In a Jupyter environment, please rerun this cell to show the HTML representation or trust the notebook. <br />On GitHub, the HTML representation is unable to render, please try loading this page with nbviewer.org.</b></div><div class=\"sk-container\" hidden><div class=\"sk-item\"><div class=\"sk-estimator sk-toggleable\"><input class=\"sk-toggleable__control sk-hidden--visually\" id=\"sk-estimator-id-2\" type=\"checkbox\" checked><label for=\"sk-estimator-id-2\" class=\"sk-toggleable__label sk-toggleable__label-arrow\">KNeighborsClassifier</label><div class=\"sk-toggleable__content\"><pre>KNeighborsClassifier(n_neighbors=3)</pre></div></div></div></div></div>"
            ]
          },
          "metadata": {},
          "execution_count": 22
        }
      ],
      "source": [
        "from sklearn.neighbors import KNeighborsClassifier\n",
        "\n",
        "model = KNeighborsClassifier(n_neighbors=3)\n",
        "model.fit(x_train, y_train)"
      ]
    },
    {
      "cell_type": "markdown",
      "id": "20ea748b",
      "metadata": {
        "id": "20ea748b"
      },
      "source": [
        "## Evaluasi Model"
      ]
    },
    {
      "cell_type": "code",
      "execution_count": 23,
      "id": "a0affbb3",
      "metadata": {
        "colab": {
          "base_uri": "https://localhost:8080/"
        },
        "id": "a0affbb3",
        "outputId": "4a75c891-24c1-47a9-a2a1-735cb186e982"
      },
      "outputs": [
        {
          "output_type": "stream",
          "name": "stdout",
          "text": [
            "Accuracy: 0.9833333333333333\n"
          ]
        }
      ],
      "source": [
        "from sklearn.metrics import accuracy_score\n",
        "\n",
        "y_pred = model.predict(x_test)\n",
        "acc = accuracy_score(y_test, y_pred)\n",
        "print(f'Accuracy: {acc}')"
      ]
    },
    {
      "cell_type": "markdown",
      "id": "20d2b8fd",
      "metadata": {
        "id": "20d2b8fd"
      },
      "source": [
        "## Pemanfaatan Trained Model"
      ]
    },
    {
      "cell_type": "code",
      "execution_count": 24,
      "id": "3d5ca200",
      "metadata": {
        "colab": {
          "base_uri": "https://localhost:8080/"
        },
        "id": "3d5ca200",
        "outputId": "1311631f-acf3-4d55-ddb9-0b60261d5ee9"
      },
      "outputs": [
        {
          "output_type": "execute_result",
          "data": {
            "text/plain": [
              "array([1, 2])"
            ]
          },
          "metadata": {},
          "execution_count": 24
        }
      ],
      "source": [
        "data_baru = [[5,5,3,2],\n",
        "            [2,4,3,5]]\n",
        "\n",
        "preds = model.predict(data_baru)\n",
        "preds"
      ]
    },
    {
      "cell_type": "code",
      "execution_count": 25,
      "id": "f13dfb39",
      "metadata": {
        "colab": {
          "base_uri": "https://localhost:8080/"
        },
        "id": "f13dfb39",
        "outputId": "17ea1f11-e3e6-40aa-ebbe-d7ceadbc6e8d"
      },
      "outputs": [
        {
          "output_type": "stream",
          "name": "stdout",
          "text": [
            "Hasil Prediksi: ['versicolor', 'virginica']\n"
          ]
        }
      ],
      "source": [
        "pred_species = [iris.target_names[p] for p in preds]\n",
        "print(f'Hasil Prediksi: {pred_species}')"
      ]
    },
    {
      "cell_type": "markdown",
      "id": "7ff06027",
      "metadata": {
        "id": "7ff06027"
      },
      "source": [
        "## Dump & Load Trained Model"
      ]
    },
    {
      "cell_type": "markdown",
      "id": "f17c3b91",
      "metadata": {
        "id": "f17c3b91"
      },
      "source": [
        "### Dumping Model Machine Learning menjadi file joblib"
      ]
    },
    {
      "cell_type": "code",
      "execution_count": 26,
      "id": "c7f16eb0",
      "metadata": {
        "colab": {
          "base_uri": "https://localhost:8080/"
        },
        "id": "c7f16eb0",
        "outputId": "549b7d81-c376-498f-af56-9371d0688c61"
      },
      "outputs": [
        {
          "output_type": "execute_result",
          "data": {
            "text/plain": [
              "['iris_classifier_knn.joblib']"
            ]
          },
          "metadata": {},
          "execution_count": 26
        }
      ],
      "source": [
        "import joblib\n",
        "\n",
        "joblib.dump(model, 'iris_classifier_knn.joblib')"
      ]
    },
    {
      "cell_type": "markdown",
      "id": "d67110c1",
      "metadata": {
        "id": "d67110c1"
      },
      "source": [
        "### Loading Model Machine Learning dari file joblib"
      ]
    },
    {
      "cell_type": "code",
      "execution_count": 27,
      "id": "18253c39",
      "metadata": {
        "id": "18253c39"
      },
      "outputs": [],
      "source": [
        "production_model = joblib.load('iris_classifier_knn.joblib')"
      ]
    },
    {
      "cell_type": "markdown",
      "id": "b81eeb0b",
      "metadata": {
        "id": "b81eeb0b"
      },
      "source": [
        "## Sample Data"
      ]
    },
    {
      "cell_type": "code",
      "execution_count": 28,
      "id": "1a28223b",
      "metadata": {
        "colab": {
          "base_uri": "https://localhost:8080/"
        },
        "id": "1a28223b",
        "outputId": "127f26b6-0832-422a-c18a-58481206153a"
      },
      "outputs": [
        {
          "output_type": "execute_result",
          "data": {
            "text/plain": [
              "array([[ 2.1, -1.9,  5.5],\n",
              "       [-1.5,  2.4,  3.5],\n",
              "       [ 0.5, -7.9,  5.6],\n",
              "       [ 5.9,  2.3, -5.8]])"
            ]
          },
          "metadata": {},
          "execution_count": 28
        }
      ],
      "source": [
        "import numpy as np\n",
        "from sklearn import preprocessing\n",
        "\n",
        "sample_data = np.array([[2.1,-1.9,5.5],\n",
        "                       [-1.5,2.4,3.5],\n",
        "                       [0.5,-7.9,5.6],\n",
        "                       [5.9,2.3,-5.8]])\n",
        "\n",
        "sample_data"
      ]
    },
    {
      "cell_type": "code",
      "execution_count": 29,
      "id": "ef4cbea8",
      "metadata": {
        "colab": {
          "base_uri": "https://localhost:8080/"
        },
        "id": "ef4cbea8",
        "outputId": "36e16b59-8299-4da3-d296-c02cbeadc312"
      },
      "outputs": [
        {
          "output_type": "execute_result",
          "data": {
            "text/plain": [
              "(4, 3)"
            ]
          },
          "metadata": {},
          "execution_count": 29
        }
      ],
      "source": [
        "sample_data.shape"
      ]
    },
    {
      "cell_type": "markdown",
      "id": "a43ee0d7",
      "metadata": {
        "id": "a43ee0d7"
      },
      "source": [
        "## Binarisation"
      ]
    },
    {
      "cell_type": "code",
      "execution_count": 30,
      "id": "b866b12a",
      "metadata": {
        "colab": {
          "base_uri": "https://localhost:8080/"
        },
        "id": "b866b12a",
        "outputId": "7b712eaf-3030-4230-bd23-3d00eb13b1fb"
      },
      "outputs": [
        {
          "output_type": "execute_result",
          "data": {
            "text/plain": [
              "array([[ 2.1, -1.9,  5.5],\n",
              "       [-1.5,  2.4,  3.5],\n",
              "       [ 0.5, -7.9,  5.6],\n",
              "       [ 5.9,  2.3, -5.8]])"
            ]
          },
          "metadata": {},
          "execution_count": 30
        }
      ],
      "source": [
        "sample_data"
      ]
    },
    {
      "cell_type": "code",
      "execution_count": 31,
      "id": "dbbeca64",
      "metadata": {
        "colab": {
          "base_uri": "https://localhost:8080/"
        },
        "id": "dbbeca64",
        "outputId": "f2ecf6c9-25ae-4d20-fe2a-59d690307789"
      },
      "outputs": [
        {
          "output_type": "execute_result",
          "data": {
            "text/plain": [
              "array([[1., 0., 1.],\n",
              "       [0., 1., 1.],\n",
              "       [0., 0., 1.],\n",
              "       [1., 1., 0.]])"
            ]
          },
          "metadata": {},
          "execution_count": 31
        }
      ],
      "source": [
        "preprocessor = preprocessing.Binarizer(threshold=0.5)\n",
        "binarised_data = preprocessor.transform(sample_data)\n",
        "binarised_data"
      ]
    },
    {
      "cell_type": "markdown",
      "id": "a3f5f294",
      "metadata": {
        "id": "a3f5f294"
      },
      "source": [
        "## Scaling"
      ]
    },
    {
      "cell_type": "code",
      "execution_count": 32,
      "id": "7476e93d",
      "metadata": {
        "colab": {
          "base_uri": "https://localhost:8080/"
        },
        "id": "7476e93d",
        "outputId": "15eab4e4-3962-4b38-c71c-f92b2c3dc586"
      },
      "outputs": [
        {
          "output_type": "execute_result",
          "data": {
            "text/plain": [
              "array([[ 2.1, -1.9,  5.5],\n",
              "       [-1.5,  2.4,  3.5],\n",
              "       [ 0.5, -7.9,  5.6],\n",
              "       [ 5.9,  2.3, -5.8]])"
            ]
          },
          "metadata": {},
          "execution_count": 32
        }
      ],
      "source": [
        "sample_data"
      ]
    },
    {
      "cell_type": "code",
      "execution_count": 33,
      "id": "020078e1",
      "metadata": {
        "colab": {
          "base_uri": "https://localhost:8080/"
        },
        "id": "020078e1",
        "outputId": "d094a5da-66dd-4255-b04c-0caa0c18a40a"
      },
      "outputs": [
        {
          "output_type": "execute_result",
          "data": {
            "text/plain": [
              "array([[0.48648649, 0.58252427, 0.99122807],\n",
              "       [0.        , 1.        , 0.81578947],\n",
              "       [0.27027027, 0.        , 1.        ],\n",
              "       [1.        , 0.99029126, 0.        ]])"
            ]
          },
          "metadata": {},
          "execution_count": 33
        }
      ],
      "source": [
        "preprocessor = preprocessing.MinMaxScaler(feature_range=(0,1))\n",
        "preprocessor.fit(sample_data)\n",
        "scaled_data = preprocessor.transform(sample_data)\n",
        "scaled_data"
      ]
    },
    {
      "cell_type": "code",
      "execution_count": 34,
      "id": "4bc2914f",
      "metadata": {
        "colab": {
          "base_uri": "https://localhost:8080/"
        },
        "id": "4bc2914f",
        "outputId": "cfe41764-9203-4bfb-c456-5c3b5894f20e"
      },
      "outputs": [
        {
          "output_type": "execute_result",
          "data": {
            "text/plain": [
              "array([[0.48648649, 0.58252427, 0.99122807],\n",
              "       [0.        , 1.        , 0.81578947],\n",
              "       [0.27027027, 0.        , 1.        ],\n",
              "       [1.        , 0.99029126, 0.        ]])"
            ]
          },
          "metadata": {},
          "execution_count": 34
        }
      ],
      "source": [
        "scaled_data = preprocessor.fit_transform(sample_data)\n",
        "scaled_data"
      ]
    },
    {
      "cell_type": "markdown",
      "id": "821310d8",
      "metadata": {
        "id": "821310d8"
      },
      "source": [
        "## L1 Normalisation: Least Absolute Deviations\n",
        "Referensi: https://en.wikipedia.org/wiki/Least_absolute_deviations"
      ]
    },
    {
      "cell_type": "code",
      "execution_count": 35,
      "id": "c660d509",
      "metadata": {
        "colab": {
          "base_uri": "https://localhost:8080/"
        },
        "id": "c660d509",
        "outputId": "f76d3e9d-973e-458b-9b0a-4e0c5c9495e0"
      },
      "outputs": [
        {
          "output_type": "execute_result",
          "data": {
            "text/plain": [
              "array([[ 2.1, -1.9,  5.5],\n",
              "       [-1.5,  2.4,  3.5],\n",
              "       [ 0.5, -7.9,  5.6],\n",
              "       [ 5.9,  2.3, -5.8]])"
            ]
          },
          "metadata": {},
          "execution_count": 35
        }
      ],
      "source": [
        "sample_data"
      ]
    },
    {
      "cell_type": "code",
      "execution_count": 36,
      "id": "a7b104e7",
      "metadata": {
        "colab": {
          "base_uri": "https://localhost:8080/"
        },
        "id": "a7b104e7",
        "outputId": "55e291e4-dc80-4ff1-ea0f-687bd6b553ea"
      },
      "outputs": [
        {
          "output_type": "execute_result",
          "data": {
            "text/plain": [
              "array([[ 0.22105263, -0.2       ,  0.57894737],\n",
              "       [-0.2027027 ,  0.32432432,  0.47297297],\n",
              "       [ 0.03571429, -0.56428571,  0.4       ],\n",
              "       [ 0.42142857,  0.16428571, -0.41428571]])"
            ]
          },
          "metadata": {},
          "execution_count": 36
        }
      ],
      "source": [
        "l1_normalised_data = preprocessing.normalize(sample_data, norm='l1')\n",
        "l1_normalised_data "
      ]
    },
    {
      "cell_type": "markdown",
      "id": "0c6b23dc",
      "metadata": {
        "id": "0c6b23dc"
      },
      "source": [
        "## L2 Normalisation: Least Squares\n",
        "Referensi: https://en.wikipedia.org/wiki/Least_squares"
      ]
    },
    {
      "cell_type": "code",
      "execution_count": 37,
      "id": "539d891d",
      "metadata": {
        "colab": {
          "base_uri": "https://localhost:8080/"
        },
        "id": "539d891d",
        "outputId": "8b34fd8a-ecce-40b4-ceb1-6e2b7fc7805e"
      },
      "outputs": [
        {
          "output_type": "execute_result",
          "data": {
            "text/plain": [
              "array([[ 2.1, -1.9,  5.5],\n",
              "       [-1.5,  2.4,  3.5],\n",
              "       [ 0.5, -7.9,  5.6],\n",
              "       [ 5.9,  2.3, -5.8]])"
            ]
          },
          "metadata": {},
          "execution_count": 37
        }
      ],
      "source": [
        "sample_data"
      ]
    },
    {
      "cell_type": "code",
      "execution_count": 38,
      "id": "2444b35b",
      "metadata": {
        "colab": {
          "base_uri": "https://localhost:8080/"
        },
        "id": "2444b35b",
        "outputId": "9432c6f1-057c-428b-a606-d8213d588c2a"
      },
      "outputs": [
        {
          "output_type": "execute_result",
          "data": {
            "text/plain": [
              "array([[ 0.33946114, -0.30713151,  0.88906489],\n",
              "       [-0.33325106,  0.53320169,  0.7775858 ],\n",
              "       [ 0.05156558, -0.81473612,  0.57753446],\n",
              "       [ 0.68706914,  0.26784051, -0.6754239 ]])"
            ]
          },
          "metadata": {},
          "execution_count": 38
        }
      ],
      "source": [
        "l2_normalised_data = preprocessing.normalize(sample_data, norm='l2')\n",
        "l2_normalised_data"
      ]
    },
    {
      "cell_type": "code",
      "execution_count": 38,
      "id": "4ab45552",
      "metadata": {
        "id": "4ab45552"
      },
      "outputs": [],
      "source": []
    }
  ],
  "metadata": {
    "kernelspec": {
      "display_name": "Python 3 (ipykernel)",
      "language": "python",
      "name": "python3"
    },
    "language_info": {
      "codemirror_mode": {
        "name": "ipython",
        "version": 3
      },
      "file_extension": ".py",
      "mimetype": "text/x-python",
      "name": "python",
      "nbconvert_exporter": "python",
      "pygments_lexer": "ipython3",
      "version": "3.8.8"
    },
    "colab": {
      "provenance": [],
      "collapsed_sections": [
        "af886cc8",
        "b81eeb0b",
        "a43ee0d7",
        "a3f5f294",
        "821310d8",
        "0c6b23dc"
      ]
    }
  },
  "nbformat": 4,
  "nbformat_minor": 5
}