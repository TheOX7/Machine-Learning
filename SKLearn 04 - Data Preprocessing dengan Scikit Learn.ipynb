{
  "nbformat": 4,
  "nbformat_minor": 0,
  "metadata": {
    "colab": {
      "provenance": []
    },
    "kernelspec": {
      "name": "python3",
      "display_name": "Python 3"
    },
    "language_info": {
      "name": "python"
    }
  },
  "cells": [
    {
      "cell_type": "markdown",
      "metadata": {
        "id": "6dfb3337"
      },
      "source": [
        "# 04 Data Preprocessing dengan scikit-Learn"
      ]
    },
    {
      "cell_type": "markdown",
      "metadata": {
        "id": "b81eeb0b"
      },
      "source": [
        "## Sample Data"
      ]
    },
    {
      "cell_type": "code",
      "execution_count": 12,
      "metadata": {
        "colab": {
          "base_uri": "https://localhost:8080/"
        },
        "id": "1a28223b",
        "outputId": "0d7bfa65-7171-4d45-902f-02540ff20b9b"
      },
      "outputs": [
        {
          "output_type": "execute_result",
          "data": {
            "text/plain": [
              "array([[ 2.1, -1.9,  5.5],\n",
              "       [-1.5,  2.4,  3.5],\n",
              "       [ 0.5, -7.9,  5.6],\n",
              "       [ 5.9,  2.3, -5.8]])"
            ]
          },
          "metadata": {},
          "execution_count": 12
        }
      ],
      "source": [
        "import numpy as np\n",
        "from sklearn import preprocessing\n",
        "\n",
        "sample_data = np.array([[2.1,-1.9,5.5],\n",
        "                       [-1.5,2.4,3.5],\n",
        "                       [0.5,-7.9,5.6],\n",
        "                       [5.9,2.3,-5.8]])\n",
        "\n",
        "sample_data"
      ]
    },
    {
      "cell_type": "code",
      "execution_count": 13,
      "metadata": {
        "colab": {
          "base_uri": "https://localhost:8080/"
        },
        "id": "ef4cbea8",
        "outputId": "79bd3d99-9372-47d1-be37-ebd54765d0ea"
      },
      "outputs": [
        {
          "output_type": "execute_result",
          "data": {
            "text/plain": [
              "(4, 3)"
            ]
          },
          "metadata": {},
          "execution_count": 13
        }
      ],
      "source": [
        "sample_data.shape"
      ]
    },
    {
      "cell_type": "markdown",
      "metadata": {
        "id": "a43ee0d7"
      },
      "source": [
        "## Binarisation"
      ]
    },
    {
      "cell_type": "code",
      "execution_count": 14,
      "metadata": {
        "colab": {
          "base_uri": "https://localhost:8080/"
        },
        "id": "b866b12a",
        "outputId": "49e81189-8ab0-404e-d7ce-579d19f2a2ec"
      },
      "outputs": [
        {
          "output_type": "execute_result",
          "data": {
            "text/plain": [
              "array([[ 2.1, -1.9,  5.5],\n",
              "       [-1.5,  2.4,  3.5],\n",
              "       [ 0.5, -7.9,  5.6],\n",
              "       [ 5.9,  2.3, -5.8]])"
            ]
          },
          "metadata": {},
          "execution_count": 14
        }
      ],
      "source": [
        "sample_data"
      ]
    },
    {
      "cell_type": "code",
      "execution_count": 15,
      "metadata": {
        "colab": {
          "base_uri": "https://localhost:8080/"
        },
        "id": "dbbeca64",
        "outputId": "ea7e53aa-55aa-4a34-bbc7-3a2d0df6b26d"
      },
      "outputs": [
        {
          "output_type": "execute_result",
          "data": {
            "text/plain": [
              "array([[1., 0., 1.],\n",
              "       [0., 1., 1.],\n",
              "       [0., 0., 1.],\n",
              "       [1., 1., 0.]])"
            ]
          },
          "metadata": {},
          "execution_count": 15
        }
      ],
      "source": [
        "preprocessor = preprocessing.Binarizer(threshold=0.5)\n",
        "binarised_data = preprocessor.transform(sample_data)\n",
        "binarised_data"
      ]
    },
    {
      "cell_type": "markdown",
      "metadata": {
        "id": "a3f5f294"
      },
      "source": [
        "## Scaling"
      ]
    },
    {
      "cell_type": "code",
      "execution_count": 16,
      "metadata": {
        "colab": {
          "base_uri": "https://localhost:8080/"
        },
        "id": "7476e93d",
        "outputId": "c0370841-5451-44e0-c246-6dd970524bb3"
      },
      "outputs": [
        {
          "output_type": "execute_result",
          "data": {
            "text/plain": [
              "array([[ 2.1, -1.9,  5.5],\n",
              "       [-1.5,  2.4,  3.5],\n",
              "       [ 0.5, -7.9,  5.6],\n",
              "       [ 5.9,  2.3, -5.8]])"
            ]
          },
          "metadata": {},
          "execution_count": 16
        }
      ],
      "source": [
        "sample_data"
      ]
    },
    {
      "cell_type": "code",
      "execution_count": 17,
      "metadata": {
        "colab": {
          "base_uri": "https://localhost:8080/"
        },
        "id": "020078e1",
        "outputId": "07c0af74-4372-40db-fb1c-72e7efd618a2"
      },
      "outputs": [
        {
          "output_type": "execute_result",
          "data": {
            "text/plain": [
              "array([[0.48648649, 0.58252427, 0.99122807],\n",
              "       [0.        , 1.        , 0.81578947],\n",
              "       [0.27027027, 0.        , 1.        ],\n",
              "       [1.        , 0.99029126, 0.        ]])"
            ]
          },
          "metadata": {},
          "execution_count": 17
        }
      ],
      "source": [
        "preprocessor = preprocessing.MinMaxScaler(feature_range=(0,1))\n",
        "preprocessor.fit(sample_data)\n",
        "scaled_data = preprocessor.transform(sample_data)\n",
        "scaled_data"
      ]
    },
    {
      "cell_type": "code",
      "execution_count": 18,
      "metadata": {
        "colab": {
          "base_uri": "https://localhost:8080/"
        },
        "id": "4bc2914f",
        "outputId": "b9db1623-e081-4179-b926-d97d66ec1171"
      },
      "outputs": [
        {
          "output_type": "execute_result",
          "data": {
            "text/plain": [
              "array([[0.48648649, 0.58252427, 0.99122807],\n",
              "       [0.        , 1.        , 0.81578947],\n",
              "       [0.27027027, 0.        , 1.        ],\n",
              "       [1.        , 0.99029126, 0.        ]])"
            ]
          },
          "metadata": {},
          "execution_count": 18
        }
      ],
      "source": [
        "scaled_data = preprocessor.fit_transform(sample_data)\n",
        "scaled_data"
      ]
    },
    {
      "cell_type": "markdown",
      "metadata": {
        "id": "821310d8"
      },
      "source": [
        "## L1 Normalisation: Least Absolute Deviations\n",
        "Referensi: https://en.wikipedia.org/wiki/Least_absolute_deviations"
      ]
    },
    {
      "cell_type": "code",
      "execution_count": 19,
      "metadata": {
        "colab": {
          "base_uri": "https://localhost:8080/"
        },
        "id": "c660d509",
        "outputId": "738511ef-dabf-411f-ff5b-3b8cd360a09e"
      },
      "outputs": [
        {
          "output_type": "execute_result",
          "data": {
            "text/plain": [
              "array([[ 2.1, -1.9,  5.5],\n",
              "       [-1.5,  2.4,  3.5],\n",
              "       [ 0.5, -7.9,  5.6],\n",
              "       [ 5.9,  2.3, -5.8]])"
            ]
          },
          "metadata": {},
          "execution_count": 19
        }
      ],
      "source": [
        "sample_data"
      ]
    },
    {
      "cell_type": "code",
      "execution_count": 20,
      "metadata": {
        "colab": {
          "base_uri": "https://localhost:8080/"
        },
        "id": "a7b104e7",
        "outputId": "0439dc8e-75fa-402e-867a-6ebdaae1ad95"
      },
      "outputs": [
        {
          "output_type": "execute_result",
          "data": {
            "text/plain": [
              "array([[ 0.22105263, -0.2       ,  0.57894737],\n",
              "       [-0.2027027 ,  0.32432432,  0.47297297],\n",
              "       [ 0.03571429, -0.56428571,  0.4       ],\n",
              "       [ 0.42142857,  0.16428571, -0.41428571]])"
            ]
          },
          "metadata": {},
          "execution_count": 20
        }
      ],
      "source": [
        "l1_normalised_data = preprocessing.normalize(sample_data, norm='l1')\n",
        "l1_normalised_data "
      ]
    },
    {
      "cell_type": "markdown",
      "metadata": {
        "id": "0c6b23dc"
      },
      "source": [
        "## L2 Normalisation: Least Squares\n",
        "Referensi: https://en.wikipedia.org/wiki/Least_squares"
      ]
    },
    {
      "cell_type": "code",
      "execution_count": 21,
      "metadata": {
        "colab": {
          "base_uri": "https://localhost:8080/"
        },
        "id": "539d891d",
        "outputId": "4b54ada1-610c-4599-d7dd-0769d158d8c0"
      },
      "outputs": [
        {
          "output_type": "execute_result",
          "data": {
            "text/plain": [
              "array([[ 2.1, -1.9,  5.5],\n",
              "       [-1.5,  2.4,  3.5],\n",
              "       [ 0.5, -7.9,  5.6],\n",
              "       [ 5.9,  2.3, -5.8]])"
            ]
          },
          "metadata": {},
          "execution_count": 21
        }
      ],
      "source": [
        "sample_data"
      ]
    },
    {
      "cell_type": "code",
      "execution_count": 22,
      "metadata": {
        "colab": {
          "base_uri": "https://localhost:8080/"
        },
        "id": "2444b35b",
        "outputId": "da0b7243-6a5d-437e-a6fd-1e6aa66eaaf8"
      },
      "outputs": [
        {
          "output_type": "execute_result",
          "data": {
            "text/plain": [
              "array([[ 0.33946114, -0.30713151,  0.88906489],\n",
              "       [-0.33325106,  0.53320169,  0.7775858 ],\n",
              "       [ 0.05156558, -0.81473612,  0.57753446],\n",
              "       [ 0.68706914,  0.26784051, -0.6754239 ]])"
            ]
          },
          "metadata": {},
          "execution_count": 22
        }
      ],
      "source": [
        "l2_normalised_data = preprocessing.normalize(sample_data, norm='l2')\n",
        "l2_normalised_data"
      ]
    },
    {
      "cell_type": "code",
      "execution_count": 22,
      "metadata": {
        "id": "4ab45552"
      },
      "outputs": [],
      "source": []
    }
  ]
}