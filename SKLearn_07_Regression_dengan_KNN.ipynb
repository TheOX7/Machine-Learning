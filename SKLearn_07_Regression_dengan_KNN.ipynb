{
  "cells": [
    {
      "cell_type": "markdown",
      "id": "2f80f77d",
      "metadata": {
        "id": "2f80f77d"
      },
      "source": [
        "# Regression dengan KNN (K Nearest Neighbours)\n"
      ]
    },
    {
      "cell_type": "markdown",
      "source": [
        "## Sample Dataset"
      ],
      "metadata": {
        "id": "gZMlRORw9MwT"
      },
      "id": "gZMlRORw9MwT"
    },
    {
      "cell_type": "code",
      "execution_count": 2,
      "id": "e0c2b08c",
      "metadata": {
        "colab": {
          "base_uri": "https://localhost:8080/",
          "height": 332
        },
        "id": "e0c2b08c",
        "outputId": "b4023359-69a8-4799-8114-3f26db502640"
      },
      "outputs": [
        {
          "output_type": "execute_result",
          "data": {
            "text/plain": [
              "   tinggi      jk  berat\n",
              "0     158    pria     64\n",
              "1     170    pria     86\n",
              "2     183    pria     84\n",
              "3     191    pria     80\n",
              "4     155  wanita     49\n",
              "5     163  wanita     59\n",
              "6     180  wanita     67\n",
              "7     158  wanita     54\n",
              "8     170  wanita     67"
            ],
            "text/html": [
              "\n",
              "  <div id=\"df-8048dcee-d44a-4f55-a5cc-ae991fc14cfa\">\n",
              "    <div class=\"colab-df-container\">\n",
              "      <div>\n",
              "<style scoped>\n",
              "    .dataframe tbody tr th:only-of-type {\n",
              "        vertical-align: middle;\n",
              "    }\n",
              "\n",
              "    .dataframe tbody tr th {\n",
              "        vertical-align: top;\n",
              "    }\n",
              "\n",
              "    .dataframe thead th {\n",
              "        text-align: right;\n",
              "    }\n",
              "</style>\n",
              "<table border=\"1\" class=\"dataframe\">\n",
              "  <thead>\n",
              "    <tr style=\"text-align: right;\">\n",
              "      <th></th>\n",
              "      <th>tinggi</th>\n",
              "      <th>jk</th>\n",
              "      <th>berat</th>\n",
              "    </tr>\n",
              "  </thead>\n",
              "  <tbody>\n",
              "    <tr>\n",
              "      <th>0</th>\n",
              "      <td>158</td>\n",
              "      <td>pria</td>\n",
              "      <td>64</td>\n",
              "    </tr>\n",
              "    <tr>\n",
              "      <th>1</th>\n",
              "      <td>170</td>\n",
              "      <td>pria</td>\n",
              "      <td>86</td>\n",
              "    </tr>\n",
              "    <tr>\n",
              "      <th>2</th>\n",
              "      <td>183</td>\n",
              "      <td>pria</td>\n",
              "      <td>84</td>\n",
              "    </tr>\n",
              "    <tr>\n",
              "      <th>3</th>\n",
              "      <td>191</td>\n",
              "      <td>pria</td>\n",
              "      <td>80</td>\n",
              "    </tr>\n",
              "    <tr>\n",
              "      <th>4</th>\n",
              "      <td>155</td>\n",
              "      <td>wanita</td>\n",
              "      <td>49</td>\n",
              "    </tr>\n",
              "    <tr>\n",
              "      <th>5</th>\n",
              "      <td>163</td>\n",
              "      <td>wanita</td>\n",
              "      <td>59</td>\n",
              "    </tr>\n",
              "    <tr>\n",
              "      <th>6</th>\n",
              "      <td>180</td>\n",
              "      <td>wanita</td>\n",
              "      <td>67</td>\n",
              "    </tr>\n",
              "    <tr>\n",
              "      <th>7</th>\n",
              "      <td>158</td>\n",
              "      <td>wanita</td>\n",
              "      <td>54</td>\n",
              "    </tr>\n",
              "    <tr>\n",
              "      <th>8</th>\n",
              "      <td>170</td>\n",
              "      <td>wanita</td>\n",
              "      <td>67</td>\n",
              "    </tr>\n",
              "  </tbody>\n",
              "</table>\n",
              "</div>\n",
              "      <button class=\"colab-df-convert\" onclick=\"convertToInteractive('df-8048dcee-d44a-4f55-a5cc-ae991fc14cfa')\"\n",
              "              title=\"Convert this dataframe to an interactive table.\"\n",
              "              style=\"display:none;\">\n",
              "        \n",
              "  <svg xmlns=\"http://www.w3.org/2000/svg\" height=\"24px\"viewBox=\"0 0 24 24\"\n",
              "       width=\"24px\">\n",
              "    <path d=\"M0 0h24v24H0V0z\" fill=\"none\"/>\n",
              "    <path d=\"M18.56 5.44l.94 2.06.94-2.06 2.06-.94-2.06-.94-.94-2.06-.94 2.06-2.06.94zm-11 1L8.5 8.5l.94-2.06 2.06-.94-2.06-.94L8.5 2.5l-.94 2.06-2.06.94zm10 10l.94 2.06.94-2.06 2.06-.94-2.06-.94-.94-2.06-.94 2.06-2.06.94z\"/><path d=\"M17.41 7.96l-1.37-1.37c-.4-.4-.92-.59-1.43-.59-.52 0-1.04.2-1.43.59L10.3 9.45l-7.72 7.72c-.78.78-.78 2.05 0 2.83L4 21.41c.39.39.9.59 1.41.59.51 0 1.02-.2 1.41-.59l7.78-7.78 2.81-2.81c.8-.78.8-2.07 0-2.86zM5.41 20L4 18.59l7.72-7.72 1.47 1.35L5.41 20z\"/>\n",
              "  </svg>\n",
              "      </button>\n",
              "      \n",
              "  <style>\n",
              "    .colab-df-container {\n",
              "      display:flex;\n",
              "      flex-wrap:wrap;\n",
              "      gap: 12px;\n",
              "    }\n",
              "\n",
              "    .colab-df-convert {\n",
              "      background-color: #E8F0FE;\n",
              "      border: none;\n",
              "      border-radius: 50%;\n",
              "      cursor: pointer;\n",
              "      display: none;\n",
              "      fill: #1967D2;\n",
              "      height: 32px;\n",
              "      padding: 0 0 0 0;\n",
              "      width: 32px;\n",
              "    }\n",
              "\n",
              "    .colab-df-convert:hover {\n",
              "      background-color: #E2EBFA;\n",
              "      box-shadow: 0px 1px 2px rgba(60, 64, 67, 0.3), 0px 1px 3px 1px rgba(60, 64, 67, 0.15);\n",
              "      fill: #174EA6;\n",
              "    }\n",
              "\n",
              "    [theme=dark] .colab-df-convert {\n",
              "      background-color: #3B4455;\n",
              "      fill: #D2E3FC;\n",
              "    }\n",
              "\n",
              "    [theme=dark] .colab-df-convert:hover {\n",
              "      background-color: #434B5C;\n",
              "      box-shadow: 0px 1px 3px 1px rgba(0, 0, 0, 0.15);\n",
              "      filter: drop-shadow(0px 1px 2px rgba(0, 0, 0, 0.3));\n",
              "      fill: #FFFFFF;\n",
              "    }\n",
              "  </style>\n",
              "\n",
              "      <script>\n",
              "        const buttonEl =\n",
              "          document.querySelector('#df-8048dcee-d44a-4f55-a5cc-ae991fc14cfa button.colab-df-convert');\n",
              "        buttonEl.style.display =\n",
              "          google.colab.kernel.accessAllowed ? 'block' : 'none';\n",
              "\n",
              "        async function convertToInteractive(key) {\n",
              "          const element = document.querySelector('#df-8048dcee-d44a-4f55-a5cc-ae991fc14cfa');\n",
              "          const dataTable =\n",
              "            await google.colab.kernel.invokeFunction('convertToInteractive',\n",
              "                                                     [key], {});\n",
              "          if (!dataTable) return;\n",
              "\n",
              "          const docLinkHtml = 'Like what you see? Visit the ' +\n",
              "            '<a target=\"_blank\" href=https://colab.research.google.com/notebooks/data_table.ipynb>data table notebook</a>'\n",
              "            + ' to learn more about interactive tables.';\n",
              "          element.innerHTML = '';\n",
              "          dataTable['output_type'] = 'display_data';\n",
              "          await google.colab.output.renderOutput(dataTable, element);\n",
              "          const docLink = document.createElement('div');\n",
              "          docLink.innerHTML = docLinkHtml;\n",
              "          element.appendChild(docLink);\n",
              "        }\n",
              "      </script>\n",
              "    </div>\n",
              "  </div>\n",
              "  "
            ]
          },
          "metadata": {},
          "execution_count": 2
        }
      ],
      "source": [
        "import pandas as pd\n",
        "\n",
        "sensus = {'tinggi': [158, 170, 183, 191, 155, 163, 180, 158, 170], \n",
        "          'jk': ['pria', 'pria', 'pria', 'pria', 'wanita', 'wanita', 'wanita', 'wanita', 'wanita'],\n",
        "          'berat': [64, 86, 84, 80, 49, 59, 67, 54, 67]}\n",
        "\n",
        "sensus_df = pd.DataFrame(sensus)\n",
        "sensus_df"
      ]
    },
    {
      "cell_type": "markdown",
      "id": "a8e923d6",
      "metadata": {
        "id": "a8e923d6"
      },
      "source": [
        "## Features & Target"
      ]
    },
    {
      "cell_type": "code",
      "execution_count": 3,
      "id": "8dd3e001",
      "metadata": {
        "colab": {
          "base_uri": "https://localhost:8080/"
        },
        "id": "8dd3e001",
        "outputId": "623a3f78-ccda-4165-d03d-655bcfbd005a"
      },
      "outputs": [
        {
          "output_type": "stream",
          "name": "stdout",
          "text": [
            "X_train:\n",
            "[[158 'pria']\n",
            " [170 'pria']\n",
            " [183 'pria']\n",
            " [191 'pria']\n",
            " [155 'wanita']\n",
            " [163 'wanita']\n",
            " [180 'wanita']\n",
            " [158 'wanita']\n",
            " [170 'wanita']]\n",
            "\n",
            "y_train: [64 86 84 80 49 59 67 54 67]\n"
          ]
        }
      ],
      "source": [
        "import numpy as np\n",
        "\n",
        "X_train = np.array(sensus_df[['tinggi', 'jk']])\n",
        "y_train = np.array(sensus_df['berat'])\n",
        "\n",
        "print(f'X_train:\\n{X_train}\\n')\n",
        "print(f'y_train: {y_train}')"
      ]
    },
    {
      "cell_type": "markdown",
      "id": "24fa9101",
      "metadata": {
        "id": "24fa9101"
      },
      "source": [
        "## Preprocess Dataset: Konversi Label menjadi Numerik Biner"
      ]
    },
    {
      "cell_type": "code",
      "execution_count": 4,
      "id": "61b30e88",
      "metadata": {
        "colab": {
          "base_uri": "https://localhost:8080/"
        },
        "id": "61b30e88",
        "outputId": "50ad4c6d-d4b1-4d86-caa0-fbabc39b93ee"
      },
      "outputs": [
        {
          "output_type": "stream",
          "name": "stdout",
          "text": [
            "X_train:\n",
            "[[158 'pria']\n",
            " [170 'pria']\n",
            " [183 'pria']\n",
            " [191 'pria']\n",
            " [155 'wanita']\n",
            " [163 'wanita']\n",
            " [180 'wanita']\n",
            " [158 'wanita']\n",
            " [170 'wanita']]\n",
            "\n",
            "X_train_transposed:\n",
            "[[158 170 183 191 155 163 180 158 170]\n",
            " ['pria' 'pria' 'pria' 'pria' 'wanita' 'wanita' 'wanita' 'wanita'\n",
            "  'wanita']]\n"
          ]
        }
      ],
      "source": [
        "X_train_transposed = np.transpose(X_train)\n",
        "\n",
        "print(f'X_train:\\n{X_train}\\n')\n",
        "print(f'X_train_transposed:\\n{X_train_transposed}')"
      ]
    },
    {
      "cell_type": "code",
      "execution_count": 5,
      "id": "c07fb999",
      "metadata": {
        "colab": {
          "base_uri": "https://localhost:8080/"
        },
        "id": "c07fb999",
        "outputId": "012f663a-83cb-429d-d7fc-c40e74ffb7da"
      },
      "outputs": [
        {
          "output_type": "stream",
          "name": "stdout",
          "text": [
            "jk: ['pria' 'pria' 'pria' 'pria' 'wanita' 'wanita' 'wanita' 'wanita' 'wanita']\n",
            "\n",
            "jk_binarised:\n",
            "[[0]\n",
            " [0]\n",
            " [0]\n",
            " [0]\n",
            " [1]\n",
            " [1]\n",
            " [1]\n",
            " [1]\n",
            " [1]]\n"
          ]
        }
      ],
      "source": [
        "from sklearn.preprocessing import LabelBinarizer\n",
        "\n",
        "lb = LabelBinarizer()\n",
        "jk_binarised = lb.fit_transform(X_train_transposed[1])\n",
        "\n",
        "print(f'jk: {X_train_transposed[1]}\\n')\n",
        "print(f'jk_binarised:\\n{jk_binarised}')"
      ]
    },
    {
      "cell_type": "code",
      "execution_count": 6,
      "id": "9930d81a",
      "metadata": {
        "colab": {
          "base_uri": "https://localhost:8080/"
        },
        "id": "9930d81a",
        "outputId": "f4dfcc5b-5b39-4082-83bc-b5f791bc16ab"
      },
      "outputs": [
        {
          "output_type": "execute_result",
          "data": {
            "text/plain": [
              "array([0, 0, 0, 0, 1, 1, 1, 1, 1])"
            ]
          },
          "metadata": {},
          "execution_count": 6
        }
      ],
      "source": [
        "jk_binarised = jk_binarised.flatten()\n",
        "jk_binarised"
      ]
    },
    {
      "cell_type": "code",
      "execution_count": 7,
      "id": "d15ff23f",
      "metadata": {
        "colab": {
          "base_uri": "https://localhost:8080/"
        },
        "id": "d15ff23f",
        "outputId": "677b759c-0b6c-4ccc-fab1-f92f41a99ff5"
      },
      "outputs": [
        {
          "output_type": "stream",
          "name": "stdout",
          "text": [
            "X_train_transposed:\n",
            "[[158 170 183 191 155 163 180 158 170]\n",
            " [0 0 0 0 1 1 1 1 1]]\n",
            "\n",
            "X_train:\n",
            "[[158 0]\n",
            " [170 0]\n",
            " [183 0]\n",
            " [191 0]\n",
            " [155 1]\n",
            " [163 1]\n",
            " [180 1]\n",
            " [158 1]\n",
            " [170 1]]\n"
          ]
        }
      ],
      "source": [
        "X_train_transposed[1] = jk_binarised\n",
        "X_train = X_train_transposed.transpose()\n",
        "\n",
        "print(f'X_train_transposed:\\n{X_train_transposed}\\n')\n",
        "print(f'X_train:\\n{X_train}')"
      ]
    },
    {
      "cell_type": "markdown",
      "id": "0c220280",
      "metadata": {
        "id": "0c220280"
      },
      "source": [
        "## Training KNN Regression Model"
      ]
    },
    {
      "cell_type": "code",
      "execution_count": 8,
      "id": "ed268d96",
      "metadata": {
        "colab": {
          "base_uri": "https://localhost:8080/",
          "height": 75
        },
        "id": "ed268d96",
        "outputId": "d90eac41-3139-4e8a-97ba-e2c054dc4828"
      },
      "outputs": [
        {
          "output_type": "execute_result",
          "data": {
            "text/plain": [
              "KNeighborsRegressor(n_neighbors=3)"
            ],
            "text/html": [
              "<style>#sk-container-id-1 {color: black;background-color: white;}#sk-container-id-1 pre{padding: 0;}#sk-container-id-1 div.sk-toggleable {background-color: white;}#sk-container-id-1 label.sk-toggleable__label {cursor: pointer;display: block;width: 100%;margin-bottom: 0;padding: 0.3em;box-sizing: border-box;text-align: center;}#sk-container-id-1 label.sk-toggleable__label-arrow:before {content: \"▸\";float: left;margin-right: 0.25em;color: #696969;}#sk-container-id-1 label.sk-toggleable__label-arrow:hover:before {color: black;}#sk-container-id-1 div.sk-estimator:hover label.sk-toggleable__label-arrow:before {color: black;}#sk-container-id-1 div.sk-toggleable__content {max-height: 0;max-width: 0;overflow: hidden;text-align: left;background-color: #f0f8ff;}#sk-container-id-1 div.sk-toggleable__content pre {margin: 0.2em;color: black;border-radius: 0.25em;background-color: #f0f8ff;}#sk-container-id-1 input.sk-toggleable__control:checked~div.sk-toggleable__content {max-height: 200px;max-width: 100%;overflow: auto;}#sk-container-id-1 input.sk-toggleable__control:checked~label.sk-toggleable__label-arrow:before {content: \"▾\";}#sk-container-id-1 div.sk-estimator input.sk-toggleable__control:checked~label.sk-toggleable__label {background-color: #d4ebff;}#sk-container-id-1 div.sk-label input.sk-toggleable__control:checked~label.sk-toggleable__label {background-color: #d4ebff;}#sk-container-id-1 input.sk-hidden--visually {border: 0;clip: rect(1px 1px 1px 1px);clip: rect(1px, 1px, 1px, 1px);height: 1px;margin: -1px;overflow: hidden;padding: 0;position: absolute;width: 1px;}#sk-container-id-1 div.sk-estimator {font-family: monospace;background-color: #f0f8ff;border: 1px dotted black;border-radius: 0.25em;box-sizing: border-box;margin-bottom: 0.5em;}#sk-container-id-1 div.sk-estimator:hover {background-color: #d4ebff;}#sk-container-id-1 div.sk-parallel-item::after {content: \"\";width: 100%;border-bottom: 1px solid gray;flex-grow: 1;}#sk-container-id-1 div.sk-label:hover label.sk-toggleable__label {background-color: #d4ebff;}#sk-container-id-1 div.sk-serial::before {content: \"\";position: absolute;border-left: 1px solid gray;box-sizing: border-box;top: 0;bottom: 0;left: 50%;z-index: 0;}#sk-container-id-1 div.sk-serial {display: flex;flex-direction: column;align-items: center;background-color: white;padding-right: 0.2em;padding-left: 0.2em;position: relative;}#sk-container-id-1 div.sk-item {position: relative;z-index: 1;}#sk-container-id-1 div.sk-parallel {display: flex;align-items: stretch;justify-content: center;background-color: white;position: relative;}#sk-container-id-1 div.sk-item::before, #sk-container-id-1 div.sk-parallel-item::before {content: \"\";position: absolute;border-left: 1px solid gray;box-sizing: border-box;top: 0;bottom: 0;left: 50%;z-index: -1;}#sk-container-id-1 div.sk-parallel-item {display: flex;flex-direction: column;z-index: 1;position: relative;background-color: white;}#sk-container-id-1 div.sk-parallel-item:first-child::after {align-self: flex-end;width: 50%;}#sk-container-id-1 div.sk-parallel-item:last-child::after {align-self: flex-start;width: 50%;}#sk-container-id-1 div.sk-parallel-item:only-child::after {width: 0;}#sk-container-id-1 div.sk-dashed-wrapped {border: 1px dashed gray;margin: 0 0.4em 0.5em 0.4em;box-sizing: border-box;padding-bottom: 0.4em;background-color: white;}#sk-container-id-1 div.sk-label label {font-family: monospace;font-weight: bold;display: inline-block;line-height: 1.2em;}#sk-container-id-1 div.sk-label-container {text-align: center;}#sk-container-id-1 div.sk-container {/* jupyter's `normalize.less` sets `[hidden] { display: none; }` but bootstrap.min.css set `[hidden] { display: none !important; }` so we also need the `!important` here to be able to override the default hidden behavior on the sphinx rendered scikit-learn.org. See: https://github.com/scikit-learn/scikit-learn/issues/21755 */display: inline-block !important;position: relative;}#sk-container-id-1 div.sk-text-repr-fallback {display: none;}</style><div id=\"sk-container-id-1\" class=\"sk-top-container\"><div class=\"sk-text-repr-fallback\"><pre>KNeighborsRegressor(n_neighbors=3)</pre><b>In a Jupyter environment, please rerun this cell to show the HTML representation or trust the notebook. <br />On GitHub, the HTML representation is unable to render, please try loading this page with nbviewer.org.</b></div><div class=\"sk-container\" hidden><div class=\"sk-item\"><div class=\"sk-estimator sk-toggleable\"><input class=\"sk-toggleable__control sk-hidden--visually\" id=\"sk-estimator-id-1\" type=\"checkbox\" checked><label for=\"sk-estimator-id-1\" class=\"sk-toggleable__label sk-toggleable__label-arrow\">KNeighborsRegressor</label><div class=\"sk-toggleable__content\"><pre>KNeighborsRegressor(n_neighbors=3)</pre></div></div></div></div></div>"
            ]
          },
          "metadata": {},
          "execution_count": 8
        }
      ],
      "source": [
        "from sklearn.neighbors import KNeighborsRegressor\n",
        "\n",
        "K = 3\n",
        "model = KNeighborsRegressor(n_neighbors=K)\n",
        "model.fit(X_train, y_train)"
      ]
    },
    {
      "cell_type": "markdown",
      "id": "c3923f6e",
      "metadata": {
        "id": "c3923f6e"
      },
      "source": [
        "## Prediksi Berat Badan"
      ]
    },
    {
      "cell_type": "code",
      "execution_count": 9,
      "id": "878d3265",
      "metadata": {
        "colab": {
          "base_uri": "https://localhost:8080/"
        },
        "id": "878d3265",
        "outputId": "9555e29d-98ff-4066-9137-af2184890789"
      },
      "outputs": [
        {
          "output_type": "execute_result",
          "data": {
            "text/plain": [
              "array([[155,   1]])"
            ]
          },
          "metadata": {},
          "execution_count": 9
        }
      ],
      "source": [
        "X_new = np.array([[155, 1]])\n",
        "X_new"
      ]
    },
    {
      "cell_type": "code",
      "execution_count": 10,
      "id": "6a98c937",
      "metadata": {
        "colab": {
          "base_uri": "https://localhost:8080/"
        },
        "id": "6a98c937",
        "outputId": "e8febf49-8e1b-405d-b2e8-3addd57c5180"
      },
      "outputs": [
        {
          "output_type": "execute_result",
          "data": {
            "text/plain": [
              "array([55.66666667])"
            ]
          },
          "metadata": {},
          "execution_count": 10
        }
      ],
      "source": [
        "y_pred = model.predict(X_new)\n",
        "y_pred"
      ]
    },
    {
      "cell_type": "markdown",
      "id": "d96c6492",
      "metadata": {
        "id": "d96c6492"
      },
      "source": [
        "## Evaluasi KNN Regression Model"
      ]
    },
    {
      "cell_type": "code",
      "execution_count": 11,
      "id": "56789109",
      "metadata": {
        "colab": {
          "base_uri": "https://localhost:8080/"
        },
        "id": "56789109",
        "outputId": "f8e8c78b-c4bc-45a3-fad1-915d4862a678"
      },
      "outputs": [
        {
          "output_type": "stream",
          "name": "stdout",
          "text": [
            "X_test:\n",
            "[[168   0]\n",
            " [180   0]\n",
            " [160   1]\n",
            " [169   1]]\n",
            "\n",
            "y_test: [65 96 52 67]\n"
          ]
        }
      ],
      "source": [
        "X_test = np.array([[168, 0], [180, 0], [160, 1], [169, 1]])\n",
        "y_test = np.array([65, 96, 52, 67])\n",
        "\n",
        "print(f'X_test:\\n{X_test}\\n')\n",
        "print(f'y_test: {y_test}')"
      ]
    },
    {
      "cell_type": "code",
      "execution_count": 12,
      "id": "7372a076",
      "metadata": {
        "colab": {
          "base_uri": "https://localhost:8080/"
        },
        "id": "7372a076",
        "outputId": "14973ead-7559-4157-feac-001589aab5ba"
      },
      "outputs": [
        {
          "output_type": "execute_result",
          "data": {
            "text/plain": [
              "array([70.66666667, 79.        , 59.        , 70.66666667])"
            ]
          },
          "metadata": {},
          "execution_count": 12
        }
      ],
      "source": [
        "y_pred = model.predict(X_test)\n",
        "y_pred"
      ]
    },
    {
      "cell_type": "markdown",
      "id": "3acd6f94",
      "metadata": {
        "id": "3acd6f94"
      },
      "source": [
        "## Coefficient of Determination atau $R^2$"
      ]
    },
    {
      "cell_type": "code",
      "execution_count": 13,
      "id": "d717f698",
      "metadata": {
        "colab": {
          "base_uri": "https://localhost:8080/"
        },
        "id": "d717f698",
        "outputId": "1ddcc04f-8a68-4e07-a001-119437ebe5c0"
      },
      "outputs": [
        {
          "output_type": "stream",
          "name": "stdout",
          "text": [
            "R-squared: 0.6290565226735438\n"
          ]
        }
      ],
      "source": [
        "from sklearn.metrics import r2_score\n",
        "\n",
        "r_squared = r2_score(y_test, y_pred)\n",
        "\n",
        "print(f'R-squared: {r_squared}')"
      ]
    },
    {
      "cell_type": "markdown",
      "id": "87d2a248",
      "metadata": {
        "id": "87d2a248"
      },
      "source": [
        "## Mean Absolute Error (MAE) atau Mean Absolute Deviation (MAD)"
      ]
    },
    {
      "cell_type": "code",
      "execution_count": 14,
      "id": "af83cbe1",
      "metadata": {
        "colab": {
          "base_uri": "https://localhost:8080/"
        },
        "id": "af83cbe1",
        "outputId": "5137def8-6da9-4e23-911e-71061bd19c28"
      },
      "outputs": [
        {
          "output_type": "stream",
          "name": "stdout",
          "text": [
            "MAE: 8.333333333333336\n"
          ]
        }
      ],
      "source": [
        "from sklearn.metrics import mean_absolute_error\n",
        "\n",
        "MAE = mean_absolute_error(y_test, y_pred)\n",
        "\n",
        "print(f'MAE: {MAE}')"
      ]
    },
    {
      "cell_type": "code",
      "execution_count": 15,
      "id": "a922f5d8",
      "metadata": {
        "colab": {
          "base_uri": "https://localhost:8080/"
        },
        "id": "a922f5d8",
        "outputId": "52507de8-bf74-4898-e29e-db3a860efb7a"
      },
      "outputs": [
        {
          "output_type": "stream",
          "name": "stdout",
          "text": [
            "MSE: 95.8888888888889\n"
          ]
        }
      ],
      "source": [
        "from sklearn.metrics import mean_squared_error\n",
        "\n",
        "MSE = mean_squared_error(y_test, y_pred)\n",
        "\n",
        "print(f'MSE: {MSE}')"
      ]
    },
    {
      "cell_type": "markdown",
      "id": "1ffbabaf",
      "metadata": {
        "id": "1ffbabaf"
      },
      "source": [
        "## Permasalahan Scaling pada Features"
      ]
    },
    {
      "cell_type": "code",
      "execution_count": 16,
      "id": "859f7886",
      "metadata": {
        "colab": {
          "base_uri": "https://localhost:8080/"
        },
        "id": "859f7886",
        "outputId": "f9375a6c-1ba3-4e11-82b3-c4a0a0daacf0"
      },
      "outputs": [
        {
          "output_type": "execute_result",
          "data": {
            "text/plain": [
              "[60.0, 40.01249804748511]"
            ]
          },
          "metadata": {},
          "execution_count": 16
        }
      ],
      "source": [
        "from scipy.spatial.distance import euclidean\n",
        "\n",
        "# tinggi dalam milimeter\n",
        "X_train = np.array([[1700, 0], [1600, 1]])\n",
        "X_new = np.array([[1640, 0]])\n",
        "\n",
        "[euclidean(X_new[0], d) for d in X_train]"
      ]
    },
    {
      "cell_type": "code",
      "execution_count": 17,
      "id": "dc32f170",
      "metadata": {
        "colab": {
          "base_uri": "https://localhost:8080/"
        },
        "id": "dc32f170",
        "outputId": "f98ffbaa-237b-4123-dc36-209be3cbca1f"
      },
      "outputs": [
        {
          "output_type": "execute_result",
          "data": {
            "text/plain": [
              "[0.06000000000000005, 1.0007996802557442]"
            ]
          },
          "metadata": {},
          "execution_count": 17
        }
      ],
      "source": [
        "# tinggi dalam meter\n",
        "X_train = np.array([[1.7, 0], [1.6, 1]])\n",
        "X_new = np.array([[1.64, 0]])\n",
        "\n",
        "[euclidean(X_new[0], d) for d in X_train]"
      ]
    },
    {
      "cell_type": "markdown",
      "id": "58a622d8",
      "metadata": {
        "id": "58a622d8"
      },
      "source": [
        "## Menerapkan Standard Scaler (Standard Score atau Z-Score)"
      ]
    },
    {
      "cell_type": "code",
      "execution_count": 18,
      "id": "0980c8a3",
      "metadata": {
        "id": "0980c8a3"
      },
      "outputs": [],
      "source": [
        "from sklearn.preprocessing import StandardScaler\n",
        "\n",
        "ss = StandardScaler()"
      ]
    },
    {
      "cell_type": "code",
      "execution_count": 19,
      "id": "b6023cbe",
      "metadata": {
        "colab": {
          "base_uri": "https://localhost:8080/"
        },
        "id": "b6023cbe",
        "outputId": "1da38056-52d3-4e0f-e962-883c286739ca"
      },
      "outputs": [
        {
          "output_type": "stream",
          "name": "stdout",
          "text": [
            "X_train_scaled:\n",
            "[[ 1. -1.]\n",
            " [-1.  1.]]\n",
            "\n",
            "X_new_scaled: [[-0.2 -1. ]]\n",
            "\n",
            "jarak: [1.2, 2.1540659228538015]\n"
          ]
        }
      ],
      "source": [
        "# tinggi dalam milimeter\n",
        "X_train = np.array([[1700, 0], [1600, 1]])\n",
        "X_train_scaled = ss.fit_transform(X_train)\n",
        "print(f'X_train_scaled:\\n{X_train_scaled}\\n')\n",
        "\n",
        "X_new = np.array([[1640, 0]])\n",
        "X_new_scaled = ss.transform(X_new)\n",
        "print(f'X_new_scaled: {X_new_scaled}\\n')\n",
        "\n",
        "jarak = [euclidean(X_new_scaled[0], d) for d in X_train_scaled]\n",
        "print(f'jarak: {jarak}')"
      ]
    },
    {
      "cell_type": "code",
      "execution_count": 20,
      "id": "a7ce1ff1",
      "metadata": {
        "colab": {
          "base_uri": "https://localhost:8080/"
        },
        "id": "a7ce1ff1",
        "outputId": "9dbb6263-f7b6-413b-e9ba-296ce437f646"
      },
      "outputs": [
        {
          "output_type": "stream",
          "name": "stdout",
          "text": [
            "X_train_scaled:\n",
            "[[ 1. -1.]\n",
            " [-1.  1.]]\n",
            "\n",
            "X_new_scaled: [[-0.2 -1. ]]\n",
            "\n",
            "jarak: [1.2000000000000026, 2.1540659228538006]\n"
          ]
        }
      ],
      "source": [
        "# tinggi dalam meter\n",
        "X_train = np.array([[1.7, 0], [1.6, 1]])\n",
        "X_train_scaled = ss.fit_transform(X_train)\n",
        "print(f'X_train_scaled:\\n{X_train_scaled}\\n')\n",
        "\n",
        "X_new = np.array([[1.64, 0]])\n",
        "X_new_scaled = ss.transform(X_new)\n",
        "print(f'X_new_scaled: {X_new_scaled}\\n')\n",
        "\n",
        "jarak = [euclidean(X_new_scaled[0], d) for d in X_train_scaled]\n",
        "print(f'jarak: {jarak}')"
      ]
    },
    {
      "cell_type": "markdown",
      "id": "e5252a74",
      "metadata": {
        "id": "e5252a74"
      },
      "source": [
        "## Menerapkan Features Scaling pada KNN"
      ]
    },
    {
      "cell_type": "markdown",
      "id": "11ddf004",
      "metadata": {
        "id": "11ddf004"
      },
      "source": [
        "### Dataset"
      ]
    },
    {
      "cell_type": "code",
      "execution_count": 21,
      "id": "289f42a0",
      "metadata": {
        "id": "289f42a0"
      },
      "outputs": [],
      "source": [
        "# Training Set\n",
        "X_train = np.array([[158, 0], [170, 0], [183, 0], [191, 0], [155, 1], [163, 1],\n",
        "                    [180, 1], [158, 1], [170, 1]])\n",
        "\n",
        "y_train = np.array([64, 86, 84, 80, 49, 59, 67, 54, 67])\n",
        "\n",
        "# Test Set\n",
        "X_test = np.array([[168, 0], [180, 0], [160, 1], [169, 1]])\n",
        "y_test = np.array([65, 96, 52, 67])"
      ]
    },
    {
      "cell_type": "markdown",
      "id": "5eae8e9c",
      "metadata": {
        "id": "5eae8e9c"
      },
      "source": [
        "Features Scaling (Standard Scaler)"
      ]
    },
    {
      "cell_type": "code",
      "execution_count": 22,
      "id": "8f959845",
      "metadata": {
        "colab": {
          "base_uri": "https://localhost:8080/"
        },
        "id": "8f959845",
        "outputId": "5cd52035-ceec-44dc-d2b6-521edfe87762"
      },
      "outputs": [
        {
          "output_type": "stream",
          "name": "stdout",
          "text": [
            "X_train_scaled:\n",
            "[[-0.9908706  -1.11803399]\n",
            " [ 0.01869567 -1.11803399]\n",
            " [ 1.11239246 -1.11803399]\n",
            " [ 1.78543664 -1.11803399]\n",
            " [-1.24326216  0.89442719]\n",
            " [-0.57021798  0.89442719]\n",
            " [ 0.86000089  0.89442719]\n",
            " [-0.9908706   0.89442719]\n",
            " [ 0.01869567  0.89442719]]\n",
            "\n",
            "X_test_scaled:\n",
            "[[-0.14956537 -1.11803399]\n",
            " [ 0.86000089 -1.11803399]\n",
            " [-0.82260955  0.89442719]\n",
            " [-0.06543485  0.89442719]]\n",
            "\n"
          ]
        }
      ],
      "source": [
        "X_train_scaled = ss.fit_transform(X_train)\n",
        "X_test_scaled = ss.transform(X_test)\n",
        "\n",
        "print(f'X_train_scaled:\\n{X_train_scaled}\\n')\n",
        "print(f'X_test_scaled:\\n{X_test_scaled}\\n')"
      ]
    },
    {
      "cell_type": "markdown",
      "id": "113d1464",
      "metadata": {
        "id": "113d1464"
      },
      "source": [
        "### Training & Evaluasi Model"
      ]
    },
    {
      "cell_type": "code",
      "execution_count": 23,
      "id": "c951206c",
      "metadata": {
        "colab": {
          "base_uri": "https://localhost:8080/"
        },
        "id": "c951206c",
        "outputId": "b6808e2d-077f-44ea-a5db-ec8df3b4c51b"
      },
      "outputs": [
        {
          "output_type": "stream",
          "name": "stdout",
          "text": [
            "MAE: 7.583333333333336\n",
            "MSE: 85.13888888888893\n"
          ]
        }
      ],
      "source": [
        "model.fit(X_train_scaled, y_train)\n",
        "y_pred = model.predict(X_test_scaled)\n",
        "\n",
        "MAE = mean_absolute_error(y_test, y_pred)\n",
        "MSE = mean_squared_error(y_test, y_pred)\n",
        "\n",
        "print(f'MAE: {MAE}')\n",
        "print(f'MSE: {MSE}')"
      ]
    }
  ],
  "metadata": {
    "kernelspec": {
      "display_name": "Python 3 (ipykernel)",
      "language": "python",
      "name": "python3"
    },
    "language_info": {
      "codemirror_mode": {
        "name": "ipython",
        "version": 3
      },
      "file_extension": ".py",
      "mimetype": "text/x-python",
      "name": "python",
      "nbconvert_exporter": "python",
      "pygments_lexer": "ipython3",
      "version": "3.8.8"
    },
    "colab": {
      "provenance": []
    }
  },
  "nbformat": 4,
  "nbformat_minor": 5
}